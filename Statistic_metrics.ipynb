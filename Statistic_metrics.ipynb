{
 "cells": [
  {
   "cell_type": "code",
   "execution_count": null,
   "id": "7add0bfa-a97d-4e92-93f5-3c5282e0337e",
   "metadata": {},
   "outputs": [],
   "source": [
    "import pandas as pd\n",
    "import numpy as np\n",
    "\n",
    "#Read the file you want to extract the metrics from:\n",
    "df = pd.read_excel(\"D:/THESIS/OUTPUTS/master.xlsx\", sheet_name='experimental')\n",
    "\n",
    "#Select just the number columns to avoid any future problem with the calculations:\n",
    "num_df = df.select_dtypes(include=[np.number])\n",
    "\n",
    "#Now, we use .agg (aggregate function from pandas) to select which function we want to apply to each column:\n",
    "stats = num_df.agg(['min', 'max', 'mean', 'std']).transpose()\n",
    "\n",
    "stats.columns = ['Min.', 'Max.', 'Mean', 'SD']\n",
    "stats = stats.round(5)\n",
    "\n",
    "stats.to_excel(\"D:/THESIS/OUTPUTS/workshop_stats.xlsx\")"
   ]
  }
 ],
 "metadata": {
  "kernelspec": {
   "display_name": "Python 3.10 (tensorflow)",
   "language": "python",
   "name": "python310"
  },
  "language_info": {
   "codemirror_mode": {
    "name": "ipython",
    "version": 3
   },
   "file_extension": ".py",
   "mimetype": "text/x-python",
   "name": "python",
   "nbconvert_exporter": "python",
   "pygments_lexer": "ipython3",
   "version": "3.10.0"
  }
 },
 "nbformat": 4,
 "nbformat_minor": 5
}
