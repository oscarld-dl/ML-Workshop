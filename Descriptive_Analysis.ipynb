{
  "cells": [
    {
      "cell_type": "markdown",
      "metadata": {
        "id": "view-in-github",
        "colab_type": "text"
      },
      "source": [
        "<a href=\"https://colab.research.google.com/github/oscarld-dl/ML-Workshop/blob/main/Descriptive_Analysis.ipynb\" target=\"_parent\"><img src=\"https://colab.research.google.com/assets/colab-badge.svg\" alt=\"Open In Colab\"/></a>"
      ]
    },
    {
      "cell_type": "markdown",
      "id": "4c3e2bc0-b597-4eec-af29-87dd27758649",
      "metadata": {
        "id": "4c3e2bc0-b597-4eec-af29-87dd27758649"
      },
      "source": [
        "<img src=\"https://github.com/oscarld-dl/ML-Workshop/blob/main/head.jpg?raw=1\" alt=\"Header Image\" width=\"1200\"/>"
      ]
    },
    {
      "cell_type": "markdown",
      "id": "818899ba-a537-4c5c-b842-84c322fa67d2",
      "metadata": {
        "id": "818899ba-a537-4c5c-b842-84c322fa67d2"
      },
      "source": [
        "# ML Workshop"
      ]
    },
    {
      "cell_type": "markdown",
      "id": "57a9565f-3cde-48b9-b702-364c751e3338",
      "metadata": {
        "id": "57a9565f-3cde-48b9-b702-364c751e3338"
      },
      "source": [
        "RWTH Aachen University, 07.10.2025"
      ]
    },
    {
      "cell_type": "markdown",
      "id": "c411406a-d21a-482e-8265-0168445d9dee",
      "metadata": {
        "id": "c411406a-d21a-482e-8265-0168445d9dee"
      },
      "source": [
        "\n",
        "\n",
        "\n",
        "***************************************************************************************************************************\n",
        "**The goal of this workshop is to understand how we have developed the descriptive and predictive analyses using ML/DL tools.**\n",
        "***************************************************************************************************************************\n",
        "\n",
        "**Tasks for the Descriptive Analysis:**\n",
        "-------------\n",
        "\n",
        "* Analyse the code of every descriptive analysis part."
      ]
    },
    {
      "cell_type": "markdown",
      "id": "e9e12459-668b-4bcb-92a5-42e86d01950f",
      "metadata": {
        "id": "e9e12459-668b-4bcb-92a5-42e86d01950f"
      },
      "source": [
        "**Import the basic libraries:**"
      ]
    },
    {
      "cell_type": "code",
      "execution_count": 3,
      "id": "3b7190ff-5fa7-40f0-931e-20644f085717",
      "metadata": {
        "id": "3b7190ff-5fa7-40f0-931e-20644f085717"
      },
      "outputs": [],
      "source": [
        "import pandas as pd\n",
        "import numpy as np\n",
        "import matplotlib.pyplot as plt"
      ]
    },
    {
      "cell_type": "code",
      "execution_count": 6,
      "id": "af17268d-c8b7-444b-9e89-1e26f19f7e97",
      "metadata": {
        "id": "af17268d-c8b7-444b-9e89-1e26f19f7e97",
        "outputId": "ff452813-7576-4302-8092-647a0179b1be",
        "colab": {
          "base_uri": "https://localhost:8080/"
        }
      },
      "outputs": [
        {
          "output_type": "stream",
          "name": "stdout",
          "text": [
            "                     Min.        Max.        Mean          SD\n",
            "C                 0.00140     0.00200     0.00169     0.00026\n",
            "$H_{T1}$        880.00000   940.00000   912.41379    22.25463\n",
            "$H_{T2}$        790.00000   850.00000   818.96552    22.36247\n",
            "P                 2.00000    10.00000     5.21839     3.33210\n",
            "d                 0.03350     0.09350     0.06453     0.02397\n",
            "$\\alpha$          0.50000     0.90000     0.73276     0.15808\n",
            "Pearlite          0.10000     0.50000     0.26724     0.15808\n",
            "$Cryo_{T}$     -125.00000   -75.00000  -100.00000    20.17366\n",
            "$Cryo_{t}$     2400.00000  4800.00000  3655.17241   983.91229\n",
            "$Temper_{T}$    150.00000   250.00000   200.57471    41.40993\n",
            "$Temper_{t}$   3600.00000  7200.00000  5400.00000  1452.50385\n",
            "D-MP$_1$          0.09073     0.14690     0.11498     0.01393\n",
            "D-MP$_2$          0.09266     0.14710     0.11624     0.01373\n",
            "D-MP$_3$          0.09073     0.14690     0.11498     0.01393\n",
            "D-MP$_4$          0.07881     0.13238     0.10074     0.01363\n",
            "D-MP$_5$          0.08181     0.13371     0.10306     0.01342\n",
            "D-MP$_6$          0.07881     0.13238     0.10074     0.01363\n",
            "D-MP$_7$          0.07752     0.12687     0.09863     0.01252\n",
            "D-MP$_8$          0.08054     0.12843     0.10103     0.01240\n",
            "D-MP$_9$          0.07752     0.12687     0.09863     0.01252\n",
            "Austenite PF      0.02107     0.03784     0.03209     0.00399\n",
            "Martensite PF     0.95526     0.96897     0.96415     0.00330\n",
            "HRC              64.01965    64.83746    64.35735     0.18068\n"
          ]
        }
      ],
      "source": [
        "#Read the file you want to extract the metrics from:\n",
        "df_experimental = pd.read_excel(\"/content/master.xlsx\", sheet_name='experimental')\n",
        "\n",
        "#Select just the number columns to avoid any future problem with the calculations:\n",
        "num_df = df_experimental.select_dtypes(include=[np.number])\n",
        "\n",
        "#Now, we use .agg (aggregate function from pandas) to select which function we want to apply to each column:\n",
        "stats = num_df.agg(['min', 'max', 'mean', 'std']).transpose()\n",
        "\n",
        "stats.columns = ['Min.', 'Max.', 'Mean', 'SD']\n",
        "stats = stats.round(5)\n",
        "\n",
        "#One can save it to excel like:\n",
        "#stats.to_excel(\"D:/THESIS/OUTPUTS/workshop_stats.xlsx\")\n",
        "\n",
        "print(stats)"
      ]
    },
    {
      "cell_type": "markdown",
      "id": "4cfb7c3d-0de7-4396-bdde-265e419e3636",
      "metadata": {
        "id": "4cfb7c3d-0de7-4396-bdde-265e419e3636"
      },
      "source": [
        "**Let's see how to get the boxplots for a better visualization of the outliers.**"
      ]
    },
    {
      "cell_type": "markdown",
      "id": "960b5465-7a8e-4e26-b30d-88d5830137cc",
      "metadata": {
        "id": "960b5465-7a8e-4e26-b30d-88d5830137cc"
      },
      "source": [
        "**Add the necessary libraries for this part:**"
      ]
    },
    {
      "cell_type": "code",
      "execution_count": null,
      "id": "abeb5ad1-bb16-4f8e-ab86-61b47a9a6b40",
      "metadata": {
        "id": "abeb5ad1-bb16-4f8e-ab86-61b47a9a6b40"
      },
      "outputs": [],
      "source": [
        "import seaborn as sns"
      ]
    },
    {
      "cell_type": "code",
      "execution_count": null,
      "id": "1ac33059-31f8-4e1f-99e2-de6f50c0e4a3",
      "metadata": {
        "id": "1ac33059-31f8-4e1f-99e2-de6f50c0e4a3"
      },
      "outputs": [],
      "source": [
        "df_boxplots = pd.read_excel(\"D:/THESIS/OUTPUTS/master.xlsx\", sheet_name=\"boxplots\")\n",
        "\n",
        "df_renamed = df_boxplots.rename(columns={\n",
        "    \"HRC-MP1\": \"1\",\n",
        "    \"HRC-MP2\": \"2\",\n",
        "    \"HRC-MP3\": \"3\",\n",
        "    \"HRC-MP4\": \"4\",\n",
        "    \"HRC-MP5\": \"5\",\n",
        "    \"HRC-MP6\": \"6\",\n",
        "    \"HRC-MP7\": \"7\",\n",
        "    \"HRC-MP8\": \"8\",\n",
        "    \"HRC-MP9\": \"9\"\n",
        "})\n",
        "\n",
        "#We create a list with every column name ['1', '2', ... ]:\n",
        "distortion_cols = [f\"{i}\" for i in range(1, 10)]\n",
        "\n",
        "#Since Seaborn requires long format, we use .melt to transform the data frame:\n",
        "df_melted = df_renamed.melt(value_vars=distortion_cols, var_name=\"MP\", value_name=\"Hardness\")\n",
        "\n",
        "# Plot with seaborn\n",
        "plt.figure(figsize=(12, 6))\n",
        "sns.boxplot(x=\"MP\", y=\"Hardness\", data=df_melted, palette={'orange'})\n",
        "plt.title(\"Boxplot of Hardness Values per MP\")\n",
        "plt.ylabel(\"Hardness [-]\")\n",
        "plt.savefig('Boxplot of Hardness Values per MP.jpg', dpi=300, bbox_inches='tight')\n",
        "\n",
        "plt.show()"
      ]
    },
    {
      "cell_type": "markdown",
      "id": "6379d6d6-6c98-43fe-bef2-b6c47797ace5",
      "metadata": {
        "id": "6379d6d6-6c98-43fe-bef2-b6c47797ace5"
      },
      "source": [
        "**Try to get the distortion boxplot now**"
      ]
    },
    {
      "cell_type": "code",
      "execution_count": null,
      "id": "9d860ad0-d2c1-4b46-893e-9a1641d9f9fa",
      "metadata": {
        "id": "9d860ad0-d2c1-4b46-893e-9a1641d9f9fa"
      },
      "outputs": [],
      "source": [
        "df_boxplots = pd.read_excel(\"D:/THESIS/OUTPUTS/master.xlsx\", sheet_name=\"boxplots\")\n",
        "\n",
        "df_renamed = df_boxplots.rename(columns={\n",
        "##\n",
        "    # Your code goes here:\n",
        "##\n",
        "})\n",
        "\n",
        "#Every line should be completed from now onwards:\n",
        "\n",
        "# We create a list with every column name ['1', '2', ... ]:\n",
        "distortion_cols = [f\"{i}\" for i in range()]\n",
        "\n",
        "#Since Seaborn requires long format (vertical), we use .melt to transform the data frame:\n",
        "df_melted = df_renamed.melt(value_vars=distortion_cols, var_name=\"\", value_name=\"\")\n",
        "\n",
        "# Plot with seaborn\n",
        "plt.figure(figsize=(12, 6))\n",
        "sns.boxplot()\n",
        "plt.title(\"Boxplot of _ Values per _\")\n",
        "plt.ylabel(\"_\")\n",
        "\n",
        "#If we want to save the plot:\n",
        "#plt.savefig('Boxplot of _ Values per _.jpg', dpi=300, bbox_inches='tight')\n",
        "\n",
        "plt.show()"
      ]
    },
    {
      "cell_type": "markdown",
      "id": "31efdc90-b83a-486a-87c4-11526ca6d74f",
      "metadata": {
        "id": "31efdc90-b83a-486a-87c4-11526ca6d74f"
      },
      "source": [
        "**I&O Correlations**\n",
        "---"
      ]
    },
    {
      "cell_type": "markdown",
      "id": "68beaf50-a60b-4fc7-9a76-960b22f3c590",
      "metadata": {
        "id": "68beaf50-a60b-4fc7-9a76-960b22f3c590"
      },
      "source": [
        "**Spearman correlation:**"
      ]
    },
    {
      "cell_type": "code",
      "execution_count": null,
      "id": "90c9f450-3fab-4cfb-be07-c396f7d0048e",
      "metadata": {
        "id": "90c9f450-3fab-4cfb-be07-c396f7d0048e"
      },
      "outputs": [],
      "source": [
        "# Select relevant columns (both input & output data)\n",
        "# We have already read the data frame we need; see the first cell.\n",
        "\n",
        "# Assuming your input parameters are the first 11 columns and outputs are the last 9 columns\n",
        "input_columns = df_experimental.columns[1:12]  # First 11 columns (Input parameters)\n",
        "print(input_columns)\n",
        "output_columns = df_experimental.columns[12:]  # Last 9 columns (Distortion outputs)\n",
        "print(output_columns)\n",
        "\n",
        "# Compute the Spearman correlation\n",
        "correlation_matrix = df_experimental[input_columns.tolist() + output_columns.tolist()].corr(method=\"spearman\")\n",
        "\n",
        "# Plot the heatmap\n",
        "plt.figure(figsize=(14, 10))\n",
        "sns.heatmap(correlation_matrix, annot=True, cmap=\"coolwarm\", fmt=\".2f\", linewidths=0.5)\n",
        "plt.title(\"Spearman Correlation Heatmap - Inputs vs Distortions\")\n",
        "#plt.savefig(\"Spearman_Correlation_Heatmap_Seaborn.jpg\", dpi=1000, bbox_inches='tight')\n",
        "plt.show()"
      ]
    },
    {
      "cell_type": "markdown",
      "id": "707d1a4c-03db-40b0-bf2f-72b11e856675",
      "metadata": {
        "id": "707d1a4c-03db-40b0-bf2f-72b11e856675"
      },
      "source": [
        "**Sensitivity analysis based on Spearman correlation:**"
      ]
    },
    {
      "cell_type": "code",
      "execution_count": null,
      "id": "7e47a218-2219-42d9-ad92-8e4b492ac8e5",
      "metadata": {
        "id": "7e47a218-2219-42d9-ad92-8e4b492ac8e5"
      },
      "outputs": [],
      "source": [
        "#Create a blank DataFrame to store the relative importance of each input on each output:\n",
        "importance_matrix = pd.DataFrame(index=input_columns, columns=output_columns)\n",
        "\n",
        "#Iterate through each output variable:\n",
        "for i in range(len(output_columns)):\n",
        "    target_output = output_columns[i]\n",
        "\n",
        "    # Compute Spearman correlation between each input and the selected output\n",
        "    spearman_corr = df_experimental[input_columns].corrwith(df_experimental[target_output], method='spearman').abs()\n",
        "\n",
        "    # Normalize to sum to 1 (i.e., relative importance)\n",
        "    importance = (spearman_corr / spearman_corr.sum()) * 100\n",
        "\n",
        "    #Store the computed importance values for this output in the correct column of importance_matrix:\n",
        "    importance_matrix[target_output] = importance\n",
        "\n",
        "\n",
        "    # Plot\n",
        "    plt.figure(figsize=(10, 6))\n",
        "    importance.sort_values(ascending=False).plot(kind='bar')\n",
        "\n",
        "    plt.ylabel(\"Relative Importance [%]\")\n",
        "    plt.xticks(rotation=45)\n",
        "    plt.title(f\"Sensitivity of Inputs to {target_output} (Spearman-Based)\")\n",
        "    plt.ylim(0, importance.max() * 1.2)\n",
        "    plt.grid(axis='y', linestyle='--', alpha=0.7)\n",
        "    plt.tight_layout()\n",
        "    plt.savefig(f\"Spearman_Input_Importance_Barplot_{target_output}.jpg\", dpi=1000)\n",
        "    plt.show()\n",
        "\n",
        "print(importance_matrix)"
      ]
    },
    {
      "cell_type": "markdown",
      "id": "746d4679-ece0-4b43-b156-783ec31d5eb0",
      "metadata": {
        "id": "746d4679-ece0-4b43-b156-783ec31d5eb0"
      },
      "source": [
        "**Principal Component Analysis (PCA): dimensionality reduction**\n",
        "------------------------------------------------------------"
      ]
    },
    {
      "cell_type": "markdown",
      "id": "24b997be-be93-4ca2-82b2-3766b9ae6690",
      "metadata": {
        "id": "24b997be-be93-4ca2-82b2-3766b9ae6690"
      },
      "source": [
        "**First, import the neccesary libraries:**"
      ]
    },
    {
      "cell_type": "code",
      "execution_count": null,
      "id": "4a5ee939-fbd0-4d6e-a2a8-75c13e6314f9",
      "metadata": {
        "id": "4a5ee939-fbd0-4d6e-a2a8-75c13e6314f9"
      },
      "outputs": [],
      "source": [
        "from sklearn.decomposition import PCA\n",
        "from sklearn.preprocessing import StandardScaler"
      ]
    },
    {
      "cell_type": "markdown",
      "id": "fc266bf5-c5d6-4f35-8f24-5e0cee8a6291",
      "metadata": {
        "id": "fc266bf5-c5d6-4f35-8f24-5e0cee8a6291"
      },
      "source": [
        "**2D PCA plots:**"
      ]
    },
    {
      "cell_type": "code",
      "execution_count": 5,
      "id": "5fb18153-a93d-467e-9811-f5c3494fac07",
      "metadata": {
        "id": "5fb18153-a93d-467e-9811-f5c3494fac07",
        "outputId": "a9067923-2f84-4f13-9e4a-910f2fafaa8d",
        "colab": {
          "base_uri": "https://localhost:8080/",
          "height": 426
        }
      },
      "outputs": [
        {
          "output_type": "stream",
          "name": "stderr",
          "text": [
            "<>:2: SyntaxWarning: invalid escape sequence '\\T'\n",
            "<>:2: SyntaxWarning: invalid escape sequence '\\T'\n",
            "/tmp/ipython-input-2618913126.py:2: SyntaxWarning: invalid escape sequence '\\T'\n",
            "  df_PCA = pd.read_excel(\"D:\\THESIS\\OUTPUTS\\master.xlsx\", sheet_name=\"PCA\")\n"
          ]
        },
        {
          "output_type": "error",
          "ename": "FileNotFoundError",
          "evalue": "[Errno 2] No such file or directory: 'D:\\\\THESIS\\\\OUTPUTS\\\\master.xlsx'",
          "traceback": [
            "\u001b[0;31m---------------------------------------------------------------------------\u001b[0m",
            "\u001b[0;31mFileNotFoundError\u001b[0m                         Traceback (most recent call last)",
            "\u001b[0;32m/tmp/ipython-input-2618913126.py\u001b[0m in \u001b[0;36m<cell line: 0>\u001b[0;34m()\u001b[0m\n\u001b[1;32m      1\u001b[0m \u001b[0;31m# Read the Excel file\u001b[0m\u001b[0;34m\u001b[0m\u001b[0;34m\u001b[0m\u001b[0m\n\u001b[0;32m----> 2\u001b[0;31m \u001b[0mdf_PCA\u001b[0m \u001b[0;34m=\u001b[0m \u001b[0mpd\u001b[0m\u001b[0;34m.\u001b[0m\u001b[0mread_excel\u001b[0m\u001b[0;34m(\u001b[0m\u001b[0;34m\"D:\\THESIS\\OUTPUTS\\master.xlsx\"\u001b[0m\u001b[0;34m,\u001b[0m \u001b[0msheet_name\u001b[0m\u001b[0;34m=\u001b[0m\u001b[0;34m\"PCA\"\u001b[0m\u001b[0;34m)\u001b[0m\u001b[0;34m\u001b[0m\u001b[0;34m\u001b[0m\u001b[0m\n\u001b[0m\u001b[1;32m      3\u001b[0m \u001b[0;34m\u001b[0m\u001b[0m\n\u001b[1;32m      4\u001b[0m \u001b[0mX\u001b[0m \u001b[0;34m=\u001b[0m \u001b[0mdf_PCA\u001b[0m\u001b[0;34m.\u001b[0m\u001b[0miloc\u001b[0m\u001b[0;34m[\u001b[0m\u001b[0;36m1\u001b[0m\u001b[0;34m:\u001b[0m\u001b[0;36m89\u001b[0m\u001b[0;34m,\u001b[0m \u001b[0;36m1\u001b[0m\u001b[0;34m:\u001b[0m\u001b[0;36m12\u001b[0m\u001b[0;34m]\u001b[0m\u001b[0;34m.\u001b[0m\u001b[0mvalues\u001b[0m\u001b[0;34m\u001b[0m\u001b[0;34m\u001b[0m\u001b[0m\n\u001b[1;32m      5\u001b[0m \u001b[0mY\u001b[0m \u001b[0;34m=\u001b[0m \u001b[0mdf_PCA\u001b[0m\u001b[0;34m.\u001b[0m\u001b[0miloc\u001b[0m\u001b[0;34m[\u001b[0m\u001b[0;36m1\u001b[0m\u001b[0;34m:\u001b[0m\u001b[0;36m89\u001b[0m\u001b[0;34m,\u001b[0m \u001b[0;36m21\u001b[0m\u001b[0;34m:\u001b[0m\u001b[0;34m]\u001b[0m\u001b[0;34m.\u001b[0m\u001b[0mvalues\u001b[0m\u001b[0;34m\u001b[0m\u001b[0;34m\u001b[0m\u001b[0m\n",
            "\u001b[0;32m/usr/local/lib/python3.12/dist-packages/pandas/io/excel/_base.py\u001b[0m in \u001b[0;36mread_excel\u001b[0;34m(io, sheet_name, header, names, index_col, usecols, dtype, engine, converters, true_values, false_values, skiprows, nrows, na_values, keep_default_na, na_filter, verbose, parse_dates, date_parser, date_format, thousands, decimal, comment, skipfooter, storage_options, dtype_backend, engine_kwargs)\u001b[0m\n\u001b[1;32m    493\u001b[0m     \u001b[0;32mif\u001b[0m \u001b[0;32mnot\u001b[0m \u001b[0misinstance\u001b[0m\u001b[0;34m(\u001b[0m\u001b[0mio\u001b[0m\u001b[0;34m,\u001b[0m \u001b[0mExcelFile\u001b[0m\u001b[0;34m)\u001b[0m\u001b[0;34m:\u001b[0m\u001b[0;34m\u001b[0m\u001b[0;34m\u001b[0m\u001b[0m\n\u001b[1;32m    494\u001b[0m         \u001b[0mshould_close\u001b[0m \u001b[0;34m=\u001b[0m \u001b[0;32mTrue\u001b[0m\u001b[0;34m\u001b[0m\u001b[0;34m\u001b[0m\u001b[0m\n\u001b[0;32m--> 495\u001b[0;31m         io = ExcelFile(\n\u001b[0m\u001b[1;32m    496\u001b[0m             \u001b[0mio\u001b[0m\u001b[0;34m,\u001b[0m\u001b[0;34m\u001b[0m\u001b[0;34m\u001b[0m\u001b[0m\n\u001b[1;32m    497\u001b[0m             \u001b[0mstorage_options\u001b[0m\u001b[0;34m=\u001b[0m\u001b[0mstorage_options\u001b[0m\u001b[0;34m,\u001b[0m\u001b[0;34m\u001b[0m\u001b[0;34m\u001b[0m\u001b[0m\n",
            "\u001b[0;32m/usr/local/lib/python3.12/dist-packages/pandas/io/excel/_base.py\u001b[0m in \u001b[0;36m__init__\u001b[0;34m(self, path_or_buffer, engine, storage_options, engine_kwargs)\u001b[0m\n\u001b[1;32m   1548\u001b[0m                 \u001b[0mext\u001b[0m \u001b[0;34m=\u001b[0m \u001b[0;34m\"xls\"\u001b[0m\u001b[0;34m\u001b[0m\u001b[0;34m\u001b[0m\u001b[0m\n\u001b[1;32m   1549\u001b[0m             \u001b[0;32melse\u001b[0m\u001b[0;34m:\u001b[0m\u001b[0;34m\u001b[0m\u001b[0;34m\u001b[0m\u001b[0m\n\u001b[0;32m-> 1550\u001b[0;31m                 ext = inspect_excel_format(\n\u001b[0m\u001b[1;32m   1551\u001b[0m                     \u001b[0mcontent_or_path\u001b[0m\u001b[0;34m=\u001b[0m\u001b[0mpath_or_buffer\u001b[0m\u001b[0;34m,\u001b[0m \u001b[0mstorage_options\u001b[0m\u001b[0;34m=\u001b[0m\u001b[0mstorage_options\u001b[0m\u001b[0;34m\u001b[0m\u001b[0;34m\u001b[0m\u001b[0m\n\u001b[1;32m   1552\u001b[0m                 )\n",
            "\u001b[0;32m/usr/local/lib/python3.12/dist-packages/pandas/io/excel/_base.py\u001b[0m in \u001b[0;36minspect_excel_format\u001b[0;34m(content_or_path, storage_options)\u001b[0m\n\u001b[1;32m   1400\u001b[0m         \u001b[0mcontent_or_path\u001b[0m \u001b[0;34m=\u001b[0m \u001b[0mBytesIO\u001b[0m\u001b[0;34m(\u001b[0m\u001b[0mcontent_or_path\u001b[0m\u001b[0;34m)\u001b[0m\u001b[0;34m\u001b[0m\u001b[0;34m\u001b[0m\u001b[0m\n\u001b[1;32m   1401\u001b[0m \u001b[0;34m\u001b[0m\u001b[0m\n\u001b[0;32m-> 1402\u001b[0;31m     with get_handle(\n\u001b[0m\u001b[1;32m   1403\u001b[0m         \u001b[0mcontent_or_path\u001b[0m\u001b[0;34m,\u001b[0m \u001b[0;34m\"rb\"\u001b[0m\u001b[0;34m,\u001b[0m \u001b[0mstorage_options\u001b[0m\u001b[0;34m=\u001b[0m\u001b[0mstorage_options\u001b[0m\u001b[0;34m,\u001b[0m \u001b[0mis_text\u001b[0m\u001b[0;34m=\u001b[0m\u001b[0;32mFalse\u001b[0m\u001b[0;34m\u001b[0m\u001b[0;34m\u001b[0m\u001b[0m\n\u001b[1;32m   1404\u001b[0m     ) as handle:\n",
            "\u001b[0;32m/usr/local/lib/python3.12/dist-packages/pandas/io/common.py\u001b[0m in \u001b[0;36mget_handle\u001b[0;34m(path_or_buf, mode, encoding, compression, memory_map, is_text, errors, storage_options)\u001b[0m\n\u001b[1;32m    880\u001b[0m         \u001b[0;32melse\u001b[0m\u001b[0;34m:\u001b[0m\u001b[0;34m\u001b[0m\u001b[0;34m\u001b[0m\u001b[0m\n\u001b[1;32m    881\u001b[0m             \u001b[0;31m# Binary mode\u001b[0m\u001b[0;34m\u001b[0m\u001b[0;34m\u001b[0m\u001b[0m\n\u001b[0;32m--> 882\u001b[0;31m             \u001b[0mhandle\u001b[0m \u001b[0;34m=\u001b[0m \u001b[0mopen\u001b[0m\u001b[0;34m(\u001b[0m\u001b[0mhandle\u001b[0m\u001b[0;34m,\u001b[0m \u001b[0mioargs\u001b[0m\u001b[0;34m.\u001b[0m\u001b[0mmode\u001b[0m\u001b[0;34m)\u001b[0m\u001b[0;34m\u001b[0m\u001b[0;34m\u001b[0m\u001b[0m\n\u001b[0m\u001b[1;32m    883\u001b[0m         \u001b[0mhandles\u001b[0m\u001b[0;34m.\u001b[0m\u001b[0mappend\u001b[0m\u001b[0;34m(\u001b[0m\u001b[0mhandle\u001b[0m\u001b[0;34m)\u001b[0m\u001b[0;34m\u001b[0m\u001b[0;34m\u001b[0m\u001b[0m\n\u001b[1;32m    884\u001b[0m \u001b[0;34m\u001b[0m\u001b[0m\n",
            "\u001b[0;31mFileNotFoundError\u001b[0m: [Errno 2] No such file or directory: 'D:\\\\THESIS\\\\OUTPUTS\\\\master.xlsx'"
          ]
        }
      ],
      "source": [
        "# Read the Excel file\n",
        "df_PCA = pd.read_excel(\"D:\\THESIS\\OUTPUTS\\master.xlsx\", sheet_name=\"PCA\")\n",
        "\n",
        "X = df_PCA.iloc[1:89, 1:12].values\n",
        "Y = df_PCA.iloc[1:89, 21:].values\n",
        "\n",
        "# Normalize inputs and outputs separately\n",
        "scaler_X = StandardScaler()\n",
        "scaler_Y = StandardScaler()\n",
        "X_normalized = scaler_X.fit_transform(X)\n",
        "Y_normalized = scaler_Y.fit_transform(Y)\n",
        "\n",
        "# Concatenate normalized inputs and outputs\n",
        "#X_combined = np.hstack((X_normalized, Y_normalized))\n",
        "\n",
        "# Apply PCA\n",
        "pca = PCA(n_components=2)  # Reduce to 2 principal components\n",
        "X_pca = pca.fit_transform(X_normalized)\n",
        "\n",
        "# Explained variance ratio\n",
        "explained_variance = pca.explained_variance_ratio_\n",
        "print(f\"Explained Variance Ratios: {explained_variance}\")\n",
        "\n",
        "# Scatter plot of PCA components\n",
        "plt.figure(figsize=(8,6))\n",
        "plt.scatter(X_pca[:,0], X_pca[:,1], alpha=0.7)\n",
        "plt.xlabel(\"Principal Component 1\")\n",
        "plt.ylabel(\"Principal Component 2\")\n",
        "plt.title(\"PCA Visualization of Heat Treatment Inputs and Distortions\")\n",
        "#plt.savefig(\"PCA Visualization of Heat Treatment Inputs and Distortions.jpg\", dpi=1000, bbox_inches='tight')\n",
        "plt.show()"
      ]
    },
    {
      "cell_type": "code",
      "execution_count": null,
      "id": "51855791-2642-4d39-9024-97e4749398ee",
      "metadata": {
        "id": "51855791-2642-4d39-9024-97e4749398ee"
      },
      "outputs": [],
      "source": [
        "# Now we try to identify what are the most influential variables by coloruing them:\n",
        "\n",
        "color_values = df_PCA.iloc[1:89, 4].values  # Adjust the index if needed\n",
        "\n",
        "plt.figure(figsize=(8, 6))\n",
        "scatter = plt.scatter(X_pca[:, 0], X_pca[:, 1], c=color_values, cmap='coolwarm', alpha=0.7)\n",
        "\n",
        "plt.xlabel(\"Principal Component 1\")\n",
        "plt.ylabel(\"Principal Component 2\")\n",
        "plt.title(\"2D PCA Visualization Colored by Gas Quenching Pressure (P)\")\n",
        "\n",
        "# Add color bar\n",
        "plt.colorbar(scatter, label=\"Gas Quenching Pressure (P)\")\n",
        "\n",
        "plt.tight_layout()\n",
        "plt.show()"
      ]
    },
    {
      "cell_type": "markdown",
      "id": "717dc7d2-4beb-4575-b868-8df4098d1f37",
      "metadata": {
        "id": "717dc7d2-4beb-4575-b868-8df4098d1f37"
      },
      "source": [
        "**3D PCA plots:**"
      ]
    },
    {
      "cell_type": "code",
      "execution_count": null,
      "id": "42747f84",
      "metadata": {
        "id": "42747f84"
      },
      "outputs": [],
      "source": [
        "from sklearn.decomposition import PCA\n",
        "from sklearn.preprocessing import StandardScaler\n",
        "\n",
        "# Read the Excel file\n",
        "df_PCA = pd.read_excel(\"D:\\THESIS\\OUTPUTS\\master.xlsx\", sheet_name=\"PCA\")\n",
        "\n",
        "X = df_PCA.iloc[1:89, 1:12].values\n",
        "Y = df_PCA.iloc[1:89, 21:].values\n",
        "\n",
        "# Normalize inputs and outputs separately\n",
        "scaler_X = StandardScaler()\n",
        "scaler_Y = StandardScaler()\n",
        "X_normalized = scaler_X.fit_transform(X)\n",
        "Y_normalized = scaler_Y.fit_transform(Y)\n",
        "\n",
        "# Apply PCA\n",
        "pca = PCA(n_components=3)  # Reduce to 3 principal components\n",
        "X_pca = pca.fit_transform(X_normalized)\n",
        "\n",
        "# Explained variance ratio\n",
        "explained_variance = pca.explained_variance_ratio_\n",
        "print(f\"Explained Variance Ratios: {explained_variance}\")\n",
        "\n",
        "# 3D scatter plot of PCA components\n",
        "fig = plt.figure(figsize=(12,12))\n",
        "ax = fig.add_subplot(111, projection='3d')\n",
        "\n",
        "ax.scatter(X_pca[:,0], X_pca[:,1], X_pca[:,2], alpha=0.7)\n",
        "\n",
        "ax.set_xlabel(\"PC 1\")\n",
        "ax.set_ylabel(\"PC 2\")\n",
        "ax.set_zlabel(\"PC 3\")\n",
        "\n",
        "plt.title(\"3D PCA Visualization of Heat Treatment Inputs and Distortions\")\n",
        "plt.tight_layout()\n",
        "#plt.savefig(\"PCA Visualization of Heat Treatment Inputs and Distortions.jpg\", dpi=1000, bbox_inches='tight')\n",
        "plt.show()"
      ]
    },
    {
      "cell_type": "code",
      "execution_count": null,
      "id": "e97533b4-e9d9-49da-abe1-9ff8a1e7b31d",
      "metadata": {
        "id": "e97533b4-e9d9-49da-abe1-9ff8a1e7b31d"
      },
      "outputs": [],
      "source": [
        "fig = plt.figure(figsize=(12, 12))\n",
        "ax = fig.add_subplot(111, projection='3d')\n",
        "\n",
        "# Color by 'P' column (Gas Quenching Pressure)\n",
        "color_values = df_PCA.iloc[1:89, 4].values  # Adjust index if needed\n",
        "\n",
        "# 3D scatter plot\n",
        "p = ax.scatter(X_pca[:, 0], X_pca[:, 1], X_pca[:, 2],\n",
        "               c=color_values, cmap=\"coolwarm\", alpha=0.8)\n",
        "\n",
        "# Axis labels\n",
        "ax.set_xlabel(\"PC 1\")\n",
        "ax.set_ylabel(\"PC 2\")\n",
        "ax.set_zlabel(\"PC 3\")\n",
        "ax.set_title(\"3D PCA Visualization Colored by P\")\n",
        "\n",
        "# Colorbar\n",
        "fig.colorbar(p, ax=ax, label=\"Gas Quenching Pressure (P)\")\n",
        "\n",
        "plt.tight_layout()\n",
        "plt.show()"
      ]
    }
  ],
  "metadata": {
    "kernelspec": {
      "display_name": "Python 3.10 (tensorflow)",
      "language": "python",
      "name": "python310"
    },
    "language_info": {
      "codemirror_mode": {
        "name": "ipython",
        "version": 3
      },
      "file_extension": ".py",
      "mimetype": "text/x-python",
      "name": "python",
      "nbconvert_exporter": "python",
      "pygments_lexer": "ipython3",
      "version": "3.10.0"
    },
    "colab": {
      "provenance": [],
      "include_colab_link": true
    }
  },
  "nbformat": 4,
  "nbformat_minor": 5
}